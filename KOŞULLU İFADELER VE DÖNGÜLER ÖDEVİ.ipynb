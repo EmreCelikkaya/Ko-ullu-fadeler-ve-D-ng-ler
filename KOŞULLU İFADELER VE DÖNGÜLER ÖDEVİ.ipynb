{
 "cells": [
  {
   "cell_type": "markdown",
   "metadata": {},
   "source": [
    "### 1-)Kullanıcıdan Santigrat ya da Fahrenheit olarak sıcaklık değerini alacak ve diğer sıcaklık birimine çevirecek bir kod yazın. Dönüşüm için C = (5/9) * (F - 32) formülünü kullanabilirsiniz."
   ]
  },
  {
   "cell_type": "code",
   "execution_count": 20,
   "metadata": {},
   "outputs": [
    {
     "name": "stdout",
     "output_type": "stream",
     "text": [
      "Bir sıcaklık değeri giriniz!(Ör:30C, 86F):30C\n",
      "86 F\n"
     ]
    }
   ],
   "source": [
    "sıcaklık = input (\"Bir sıcaklık değeri giriniz!(Ör:30C, 86F):\")\n",
    "if sıcaklık[2] == \"C\" :\n",
    "    print ((int(int(sıcaklık[0:2])*9/5+32)), \"F\")\n",
    "elif sıcaklık[2] == \"F\" :\n",
    "    print (int(((int(sıcaklık[0:2])-32)*5/9)), \"C\")\n",
    "else :\n",
    "    print (\"Geçerli bir sıcaklık değeri girmediniz!\")"
   ]
  },
  {
   "cell_type": "markdown",
   "metadata": {},
   "source": [
    "### 2-)Kullanıcının girdiği kelimeyi ters çeviren bir kod yazınız."
   ]
  },
  {
   "cell_type": "code",
   "execution_count": 15,
   "metadata": {},
   "outputs": [
    {
     "name": "stdout",
     "output_type": "stream",
     "text": [
      "Kelime :emre\n",
      "Kelimenin tersten yazılışı : erme\n"
     ]
    }
   ],
   "source": [
    "kelime = input (\"Kelime :\")\n",
    "print(\"Kelimenin tersten yazılışı :\", kelime[::-1])"
   ]
  },
  {
   "cell_type": "markdown",
   "metadata": {},
   "source": [
    "### 3-)1'den 50'ye kadar olan Fibonacci sayılarından oluşan bir liste oluşturun. İlk iki Fibonacci sayısı 1'dir. Sonraki sayılar, önceki iki sayının toplamıdır."
   ]
  },
  {
   "cell_type": "code",
   "execution_count": null,
   "metadata": {},
   "outputs": [],
   "source": []
  },
  {
   "cell_type": "markdown",
   "metadata": {},
   "source": [
    "### 4-)Girilen bir sayı için çarpım tablosunu yazdırın.\n",
    "\n",
    " Örnek : Bir sayı girin : 6\n",
    "         6 x 1 = 6                                                               \n",
    "         6 x 2 = 12                                                              \n",
    "         6 x 3 = 18                                                              \n",
    "         6 x 4 = 24                                                              \n",
    "         6 x 5 = 30                                                              \n",
    "         6 x 6 = 36                                                              \n",
    "         6 x 7 = 42                                                              \n",
    "         6 x 8 = 48                                                              \n",
    "         6 x 9 = 54                                                              \n",
    "         6 x 10 = 60 "
   ]
  },
  {
   "cell_type": "code",
   "execution_count": 19,
   "metadata": {},
   "outputs": [
    {
     "name": "stdout",
     "output_type": "stream",
     "text": [
      "Bir sayı giriniz:6\n",
      "6 X 1 = 6\n",
      "6 X 2 = 12\n",
      "6 X 3 = 18\n",
      "6 X 4 = 24\n",
      "6 X 5 = 30\n",
      "6 X 6 = 36\n",
      "6 X 7 = 42\n",
      "6 X 8 = 48\n",
      "6 X 9 = 54\n",
      "6 X 10 = 60\n"
     ]
    }
   ],
   "source": [
    "sayi = input (\"Bir sayı giriniz:\")\n",
    "for a in range(1,11):\n",
    "    b=a*int(sayi)\n",
    "    print (sayi,\"X\",a ,\"=\",b )"
   ]
  },
  {
   "cell_type": "markdown",
   "metadata": {},
   "source": [
    "### 5-)List comprehension kullanarak, 1'den 20'ye kadar tek sayıların karesini, çift sayıların küpünü içeren bir liste oluşturun."
   ]
  },
  {
   "cell_type": "markdown",
   "metadata": {},
   "source": [
    "### 1-)"
   ]
  },
  {
   "cell_type": "code",
   "execution_count": 14,
   "metadata": {},
   "outputs": [
    {
     "name": "stdout",
     "output_type": "stream",
     "text": [
      "[8, 64, 216, 512, 1000, 1728, 2744, 4096, 5832, 8000]\n",
      "[1, 9, 25, 49, 81, 121, 169, 225, 289, 361]\n"
     ]
    }
   ],
   "source": [
    "çift = [x**3 for x in range(2,22,2)]\n",
    "\n",
    "print (çift)\n",
    "    \n",
    "tek = [x**2 for x in range(1,21,2)]\n",
    "\n",
    "print (tek)"
   ]
  },
  {
   "cell_type": "markdown",
   "metadata": {},
   "source": [
    "### 2-)"
   ]
  },
  {
   "cell_type": "code",
   "execution_count": 3,
   "metadata": {},
   "outputs": [
    {
     "name": "stdout",
     "output_type": "stream",
     "text": [
      "[8, 64, 216, 512, 1000, 1728, 2744, 4096, 5832, 8000]\n",
      "[1, 9, 25, 49, 81, 121, 169, 225, 289, 361]\n"
     ]
    }
   ],
   "source": [
    "çift_sayılar=[]\n",
    "tek_sayılar=[]\n",
    "for n in range (1,21):\n",
    "    if n%2==0:\n",
    "        çift_sayılar.append(n**3)\n",
    "    else:\n",
    "        tek_sayılar.append(n**2)\n",
    "print(çift_sayılar)\n",
    "print(tek_sayılar)"
   ]
  },
  {
   "cell_type": "code",
   "execution_count": null,
   "metadata": {},
   "outputs": [],
   "source": []
  }
 ],
 "metadata": {
  "kernelspec": {
   "display_name": "Python 3",
   "language": "python",
   "name": "python3"
  },
  "language_info": {
   "codemirror_mode": {
    "name": "ipython",
    "version": 3
   },
   "file_extension": ".py",
   "mimetype": "text/x-python",
   "name": "python",
   "nbconvert_exporter": "python",
   "pygments_lexer": "ipython3",
   "version": "3.7.4"
  }
 },
 "nbformat": 4,
 "nbformat_minor": 2
}
